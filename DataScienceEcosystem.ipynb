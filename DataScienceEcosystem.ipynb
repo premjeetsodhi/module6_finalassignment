{
 "cells": [
  {
   "cell_type": "markdown",
   "id": "af10c6f1-873e-4b30-b58b-51edc3516d10",
   "metadata": {},
   "source": [
    "# Data Science Tools and Ecosystem"
   ]
  },
  {
   "cell_type": "markdown",
   "id": "3a16c766-33df-41be-b144-13065ab1c7c6",
   "metadata": {},
   "source": [
    "In this notebook, Data Science Tools & Ecosystem are summarised."
   ]
  },
  {
   "cell_type": "markdown",
   "id": "dcf4824f-c76c-4ff0-a259-f378765d0ec8",
   "metadata": {},
   "source": [
    "***Objectives***\n",
    "\n",
    "* List popular languages for Data Science\n",
    "* List popular open source libraries used in Data Science\n",
    "* List popular development environments used by Data Scientists\n"
   ]
  },
  {
   "cell_type": "markdown",
   "id": "156ad0fa-ad56-46d6-9bbd-fd58b2670268",
   "metadata": {},
   "source": [
    "Some of the popular languages that Data Scientists use are:\n",
    "1. Python\n",
    "2. R\n",
    "3. SQL\n"
   ]
  },
  {
   "cell_type": "markdown",
   "id": "10beb16a-d6d2-46a5-95c0-9cbb645f2e5a",
   "metadata": {},
   "source": [
    "Some of the commonly used libraries used by Data Scientists include:\n",
    "1. NumPy\n",
    "2. MatPlotlib\n",
    "3. Pandas"
   ]
  },
  {
   "cell_type": "markdown",
   "id": "f7785f40-0d8a-4bfd-b74c-d5f113410ac8",
   "metadata": {},
   "source": [
    "|Data Science Tools|\n",
    "|----|\n",
    "|Jupyter Notebook|\n",
    "|RStudio|\n",
    "|Apache Spark|\n"
   ]
  },
  {
   "cell_type": "markdown",
   "id": "877868e6-8feb-4540-80e5-6e0075f54783",
   "metadata": {},
   "source": [
    "### Below are a few examples of evaluating arithmetic expressions in Python:\n",
    "5+3\n",
    "\n",
    "(2.5+4)*8\n",
    "\n",
    "10-7\n"
   ]
  },
  {
   "cell_type": "code",
   "execution_count": 21,
   "id": "55d6afdc-47fc-4b1e-85f1-9a4156373889",
   "metadata": {},
   "outputs": [
    {
     "data": {
      "text/plain": [
       "17"
      ]
     },
     "execution_count": 21,
     "metadata": {},
     "output_type": "execute_result"
    }
   ],
   "source": [
    "#This is a simple arithmetics expression to multiply then add integers\n",
    "(3*4)+5"
   ]
  },
  {
   "cell_type": "code",
   "execution_count": 23,
   "id": "9b56d385-c0b1-4abc-89b5-aedebc0925e1",
   "metadata": {},
   "outputs": [
    {
     "data": {
      "text/plain": [
       "3.3333333333333335"
      ]
     },
     "execution_count": 23,
     "metadata": {},
     "output_type": "execute_result"
    }
   ],
   "source": [
    "#This will convert 200 minutes to hours by dividing by 60\n",
    "200/60"
   ]
  },
  {
   "cell_type": "markdown",
   "id": "d901e772-7e31-4073-9502-2546d9f749ef",
   "metadata": {},
   "source": [
    "## Author\n",
    "Premjeet Sodhi"
   ]
  },
  {
   "cell_type": "code",
   "execution_count": null,
   "id": "921f4a09-de81-4848-a276-c2d38b383e78",
   "metadata": {},
   "outputs": [],
   "source": []
  }
 ],
 "metadata": {
  "kernelspec": {
   "display_name": "Python 3 (ipykernel)",
   "language": "python",
   "name": "python3"
  },
  "language_info": {
   "codemirror_mode": {
    "name": "ipython",
    "version": 3
   },
   "file_extension": ".py",
   "mimetype": "text/x-python",
   "name": "python",
   "nbconvert_exporter": "python",
   "pygments_lexer": "ipython3",
   "version": "3.12.4"
  }
 },
 "nbformat": 4,
 "nbformat_minor": 5
}
